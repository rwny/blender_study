{
 "cells": [
  {
   "cell_type": "code",
   "execution_count": 2,
   "metadata": {},
   "outputs": [
    {
     "name": "stdout",
     "output_type": "stream",
     "text": [
      "Sun position data saved to 'sun_positions_bangkok.csv'\n"
     ]
    },
    {
     "name": "stderr",
     "output_type": "stream",
     "text": [
      "C:\\Users\\rawee\\AppData\\Local\\Temp\\ipykernel_29944\\506848286.py:38: RuntimeWarning: invalid value encountered in arccos\n",
      "  azimuth_rad = np.arccos(cos_azimuth)\n"
     ]
    }
   ],
   "source": [
    "import numpy as np\n",
    "import pandas as pd\n",
    "from datetime import datetime, timedelta\n",
    "\n",
    "# Constants\n",
    "LATITUDE = 13.7563  # Latitude for Bangkok\n",
    "LONGITUDE = 100.5018  # Longitude for Bangkok\n",
    "\n",
    "def calculate_sun_position(day_of_year, hour, latitude, longitude):\n",
    "    \"\"\"\n",
    "    Calculate the sun's position as a 3D direction vector.\n",
    "    :param day_of_year: Day of the year (1-365)\n",
    "    :param hour: Hour of the day (0-23)\n",
    "    :param latitude: Latitude in degrees\n",
    "    :param longitude: Longitude in degrees\n",
    "    :return: Normalized 3D direction vector [x, y, z]\n",
    "    \"\"\"\n",
    "    # Convert inputs to radians\n",
    "    lat_rad = np.radians(latitude)\n",
    "    \n",
    "    # Julian Day\n",
    "    J = day_of_year + (hour - 12) / 24\n",
    "    \n",
    "    # Solar Declination\n",
    "    delta = 23.45 * np.sin(np.radians(360 / 365 * (J - 81)))\n",
    "    delta_rad = np.radians(delta)\n",
    "    \n",
    "    # Hour Angle\n",
    "    H = 15 * (hour - 12)  # Degrees\n",
    "    H_rad = np.radians(H)\n",
    "    \n",
    "    # Elevation Angle\n",
    "    sin_elevation = np.sin(lat_rad) * np.sin(delta_rad) + np.cos(lat_rad) * np.cos(delta_rad) * np.cos(H_rad)\n",
    "    elevation_rad = np.arcsin(sin_elevation)\n",
    "    \n",
    "    # Azimuth Angle\n",
    "    cos_azimuth = (np.sin(delta_rad) - np.sin(lat_rad) * sin_elevation) / (np.cos(lat_rad) * np.cos(elevation_rad))\n",
    "    azimuth_rad = np.arccos(cos_azimuth)\n",
    "    \n",
    "    # Adjust azimuth for morning/afternoon\n",
    "    if hour < 12:\n",
    "        azimuth_rad = 2 * np.pi - azimuth_rad\n",
    "    \n",
    "    # Convert to 3D direction vector\n",
    "    x = np.cos(elevation_rad) * np.sin(azimuth_rad)\n",
    "    y = np.cos(elevation_rad) * np.cos(azimuth_rad)\n",
    "    z = np.sin(elevation_rad)\n",
    "    \n",
    "    # Normalize the vector\n",
    "    vector = np.array([x, y, z])\n",
    "    vector /= np.linalg.norm(vector)\n",
    "    \n",
    "    return vector\n",
    "\n",
    "# Generate sun position data\n",
    "data = []\n",
    "start_date = datetime(year=2023, month=1, day=1)\n",
    "for day in range(1, 366):  # Days 1 to 365\n",
    "    for hour in range(6, 19):  # Hours 6:00 AM to 6:00 PM\n",
    "        sun_vector = calculate_sun_position(day, hour, LATITUDE, LONGITUDE)\n",
    "        data.append({\n",
    "            \"Day\": day,\n",
    "            \"Hour\": hour,\n",
    "            \"Sun_X\": sun_vector[0],\n",
    "            \"Sun_Y\": sun_vector[1],\n",
    "            \"Sun_Z\": sun_vector[2]\n",
    "        })\n",
    "\n",
    "# Save to CSV\n",
    "df = pd.DataFrame(data)\n",
    "df.to_csv(\"sun_positions_bangkok.csv\", index=False)\n",
    "\n",
    "print(\"Sun position data saved to 'sun_positions_bangkok.csv'\")"
   ]
  }
 ],
 "metadata": {
  "kernelspec": {
   "display_name": "base",
   "language": "python",
   "name": "python3"
  },
  "language_info": {
   "codemirror_mode": {
    "name": "ipython",
    "version": 3
   },
   "file_extension": ".py",
   "mimetype": "text/x-python",
   "name": "python",
   "nbconvert_exporter": "python",
   "pygments_lexer": "ipython3",
   "version": "3.12.7"
  }
 },
 "nbformat": 4,
 "nbformat_minor": 2
}
